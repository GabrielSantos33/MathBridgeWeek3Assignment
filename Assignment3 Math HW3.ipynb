{
 "cells": [
  {
   "cell_type": "markdown",
   "id": "027a679b",
   "metadata": {},
   "source": [
    "# Assignment 3\n",
    "\n",
    "## Gabriel Santos\n",
    "### '2022-27-07'\n",
    "\n",
    "### Math Bridge Week 3 Assignment\n"
   ]
  },
  {
   "cell_type": "markdown",
   "id": "59fdc627",
   "metadata": {},
   "source": [
    "####  Imports"
   ]
  },
  {
   "cell_type": "code",
   "execution_count": 2,
   "id": "e0e5a76e",
   "metadata": {},
   "outputs": [],
   "source": [
    "from scipy.stats import norm\n",
    "from scipy.stats import t\n",
    "import math\n",
    "import numpy as np"
   ]
  },
  {
   "cell_type": "markdown",
   "id": "baf63a6a",
   "metadata": {},
   "source": [
    "1.The weights of steers in a herd are distributed normally. The variance is 40,000 and the mean steer weight is 1300 lbs. Find the probability that the weight of a randomly selected steer is greater than 979 lbs. (Round your answer to 4 decimal places)"
   ]
  },
  {
   "cell_type": "markdown",
   "id": "71fd292e",
   "metadata": {},
   "source": [
    "The cumulative distribution tells you the probability of having less a value less\n",
    "than x where the mean is the location and the standard deviation is the scale."
   ]
  },
  {
   "cell_type": "code",
   "execution_count": 3,
   "id": "7c577d1c",
   "metadata": {},
   "outputs": [
    {
     "data": {
      "text/plain": [
       "0.9458"
      ]
     },
     "execution_count": 3,
     "metadata": {},
     "output_type": "execute_result"
    }
   ],
   "source": [
    "weight = 1 - norm.cdf(979, loc=1300, scale=math.sqrt(40000))\n",
    "round(weight, 4)"
   ]
  },
  {
   "cell_type": "markdown",
   "id": "e62d44fd",
   "metadata": {},
   "source": [
    "2.SVGA monitors manufactured by TSI Electronics have life spans that have a normal distribution with a variance of 1,960,000 and a mean life span of 11,000 hours.  If a SVGA monitor is selected at random, find the probability that the life span of the monitor will be more than 8340 hours. (Round your answer to 4 decimal places)"
   ]
  },
  {
   "cell_type": "code",
   "execution_count": 4,
   "id": "759ee12e",
   "metadata": {},
   "outputs": [
    {
     "data": {
      "text/plain": [
       "0.9713"
      ]
     },
     "execution_count": 4,
     "metadata": {},
     "output_type": "execute_result"
    }
   ],
   "source": [
    "monitors = 1 - norm.cdf(8340, loc=11000, scale=math.sqrt(1960000))\n",
    "round(monitors, 4)"
   ]
  },
  {
   "cell_type": "markdown",
   "id": "227cbe93",
   "metadata": {},
   "source": [
    "3.Suppose the mean income of firms in the industry for a year is 80 million dollars with a standard deviation of 3 million dollars.  If incomes for the industry are distributed normally, what is the probability that a randomly selected firm will earn between 83 and 85 million dollars? (Round your answer to 4 decimal places)"
   ]
  },
  {
   "cell_type": "code",
   "execution_count": 41,
   "id": "47cacf8a",
   "metadata": {},
   "outputs": [
    {
     "data": {
      "text/plain": [
       "0.1109"
      ]
     },
     "execution_count": 41,
     "metadata": {},
     "output_type": "execute_result"
    }
   ],
   "source": [
    "probability = norm.cdf(85, loc=80, scale=3) - norm.cdf(83, loc=80, scale=3)\n",
    "round(probability, 4)"
   ]
  },
  {
   "cell_type": "markdown",
   "id": "03ace178",
   "metadata": {},
   "source": [
    "4.Suppose GRE Verbal scores are normally distributed with a mean of 456 and a standard deviation of 123.  A university plans to offer tutoring jobs to students whose scores are in the top 14%.  What is the minimum score required for the job offer?  Round your answer to the nearest whole number, if necessary."
   ]
  },
  {
   "cell_type": "markdown",
   "id": "470f5903",
   "metadata": {},
   "source": [
    "* whittling down to the answer with result 13.9963"
   ]
  },
  {
   "cell_type": "code",
   "execution_count": 42,
   "id": "5f6dc39e",
   "metadata": {},
   "outputs": [
    {
     "data": {
      "text/plain": [
       "589"
      ]
     },
     "execution_count": 42,
     "metadata": {},
     "output_type": "execute_result"
    }
   ],
   "source": [
    "1-norm.cdf(588.9, loc=456, scale=123)\n",
    "\n",
    "result = norm.ppf(.86, loc=456, scale=123)\n",
    "int(round(result, 0))"
   ]
  },
  {
   "cell_type": "markdown",
   "id": "1bef7dda",
   "metadata": {},
   "source": [
    "5.The lengths of nails produced in a factory are normally distributed with a mean of 6.13 centimeters and a standard deviation of 0.06 centimeters.  Find the two lengths that separate the top 7% and the bottom 7%.  These lengths could serve as limits used to identify which nails should be rejected.  Round your answer to the nearest hundredth, if necessary."
   ]
  },
  {
   "cell_type": "code",
   "execution_count": 43,
   "id": "aeb55b7d",
   "metadata": {},
   "outputs": [
    {
     "name": "stdout",
     "output_type": "stream",
     "text": [
      "Rejected nails are less than 6.04 cm or longer than 6.22 cm.\n"
     ]
    }
   ],
   "source": [
    "bottom = norm.ppf(.07, loc=6.13, scale=0.06)\n",
    "top = norm.ppf(.93, loc=6.13, scale=0.06)\n",
    "print('Rejected nails are less than {:.2f} cm or longer than {:.2f} cm.'.format(bottom, top))"
   ]
  },
  {
   "cell_type": "markdown",
   "id": "c23d5119",
   "metadata": {},
   "source": [
    "6.An English professor assigns letter grades on a test according to the following scheme.\n",
    "*\tA:  Top 13% of scores\n",
    "*\tB:  Scores below the top 13% and above the bottom 55%\n",
    "*\tC:  Scores below the top 45% and above the bottom 20%\n",
    "*\tD:  Scores below the top 80% and above the bottom 9%\n",
    "*\tF:  Bottom 9% of scores\n",
    "*\tScores on the test are normally distributed with a mean of 78.8 and a standard deviation of 9.8.  Find the numerical limits for a C grade.  Round your answers to the nearest whole number, if necessary."
   ]
  },
  {
   "cell_type": "code",
   "execution_count": 44,
   "id": "0e124e46",
   "metadata": {},
   "outputs": [
    {
     "name": "stdout",
     "output_type": "stream",
     "text": [
      "A C grade is awarded for scores between 71 and 79 inclusive.\n"
     ]
    }
   ],
   "source": [
    "top = int(round(norm.ppf(.55, loc=78.8, scale=9.8),0)-1)\n",
    "bottom = int(round(norm.ppf(.2, loc=78.8, scale=9.8),0))\n",
    "print('A C grade is awarded for scores between {} and {} inclusive.'.format(bottom, top))"
   ]
  },
  {
   "cell_type": "markdown",
   "id": "f0abe1c8",
   "metadata": {},
   "source": [
    "7.Suppose ACT Composite scores are normally distributed with a mean of 21.2 and a standard deviation of 5.4.  A university plans to admit students whose scores are in the top 45%.  What is the minimum score required for admission?  Round your answer to the nearest tenth, if necessary."
   ]
  },
  {
   "cell_type": "code",
   "execution_count": 45,
   "id": "5ae57d92",
   "metadata": {},
   "outputs": [
    {
     "name": "stdout",
     "output_type": "stream",
     "text": [
      "The minimum score required for admission is 21.9.\n"
     ]
    }
   ],
   "source": [
    "bottom = round(norm.ppf(.55, loc=21.2, scale=5.4),1)\n",
    "print('The minimum score required for admission is {}.'.format(bottom))"
   ]
  },
  {
   "cell_type": "markdown",
   "id": "f8e56455",
   "metadata": {},
   "source": [
    "8.Consider the probability that less than 11 out of 151 students will not graduate on time.  Assume the probability that a given student will not graduate on time is 9%.  Approximate the probability using the normal distribution. (Round your answer to 4 decimal places.)"
   ]
  },
  {
   "cell_type": "code",
   "execution_count": 46,
   "id": "6b59b8b6",
   "metadata": {},
   "outputs": [
    {
     "name": "stdout",
     "output_type": "stream",
     "text": [
      "If a * b and b * c both larger than 5 then we can use the normal approximation: True\n",
      "The probability that fewer than 11 will not graduate on time is 0.2307.\n"
     ]
    }
   ],
   "source": [
    "a = 151\n",
    "b = .09\n",
    "c = 1 - b\n",
    "mean = a * b\n",
    "stdev = math.sqrt(a * b * c)\n",
    "result1 = (mean > 5) and (a * c > 5)\n",
    "print('If a * b and b * c both larger than 5 then we can use the normal approximation:',result1)\n",
    "result2 = norm.cdf(11, loc=mean, scale=stdev) \n",
    "print('The probability that fewer than 11 will not graduate on time is {:.4f}.'.format(result2))"
   ]
  },
  {
   "cell_type": "markdown",
   "id": "26681493",
   "metadata": {},
   "source": [
    "9.The mean lifetime of a tire is 48 months with a standard deviation of 7.  If 147 tires are sampled, what is the probability that the mean of the sample would be greater than 48.83 months? (Round your answer to 4 decimal places)"
   ]
  },
  {
   "cell_type": "code",
   "execution_count": 47,
   "id": "21a58cec",
   "metadata": {},
   "outputs": [
    {
     "name": "stdout",
     "output_type": "stream",
     "text": [
      "The probability that the mean of the sample would be greater than 48.83 months is 0.0753.\n"
     ]
    }
   ],
   "source": [
    "lifetime = 1 - norm.cdf(48.83, loc=48, scale=7/math.sqrt(147))\n",
    "print('The probability that the mean of the sample would be greater than 48.83 months is {:.4f}.'.format(lifetime))"
   ]
  },
  {
   "cell_type": "markdown",
   "id": "2053c346",
   "metadata": {},
   "source": [
    "10.The quality control manager at a computer manufacturing company believes that the mean life of a computer is 91 months, with a standard deviation of 10.  If he is correct, what is the probability that the mean of a sample of 68 computers would be greater than 93.54 months? (Round your answer to 4 decimal places)"
   ]
  },
  {
   "cell_type": "code",
   "execution_count": 48,
   "id": "f2d62471",
   "metadata": {},
   "outputs": [
    {
     "name": "stdout",
     "output_type": "stream",
     "text": [
      "The probability that the mean of the sample would be greater than 93.54 months is 0.0181.\n"
     ]
    }
   ],
   "source": [
    "computerlife = 1 - norm.cdf(93.54, loc=91, scale=10/math.sqrt(68))\n",
    "print('The probability that the mean of the sample would be greater than 93.54 months is {:.4f}.'.format(computerlife))"
   ]
  },
  {
   "cell_type": "markdown",
   "id": "b03dc864",
   "metadata": {},
   "source": [
    "11.A director of reservations believes that 7% of the ticketed passengers are no-shows.  If the director is right, what is the probability that the proportion of no-shows in a sample of 540 ticketed passengers would differ from the population proportion by less than 3%? (Round your answer to 4 decimal places)"
   ]
  },
  {
   "cell_type": "code",
   "execution_count": 49,
   "id": "4a6bc327",
   "metadata": {},
   "outputs": [
    {
     "name": "stdout",
     "output_type": "stream",
     "text": [
      "The probability of more than 4% of 540 passengers no-showing is 0.9969.\n"
     ]
    }
   ],
   "source": [
    "a = 540\n",
    "b = .07\n",
    "c = 1 - b\n",
    "#mean = 37.8 no-shows\n",
    "mean = a * b\n",
    "#worstcase = 21.6 no-shows\n",
    "worstcase = a * (b - .03)\n",
    "stdev = math.sqrt(a * b * c)\n",
    "result = 1 - norm.cdf(worstcase, loc=mean, scale=stdev)\n",
    "print('The probability of more than 4% of 540 passengers no-showing is {:.4f}.'.format(result))"
   ]
  },
  {
   "cell_type": "markdown",
   "id": "381aa1f4",
   "metadata": {},
   "source": [
    "12.A bottle maker believes that 23% of his bottles are defective.  If the bottle maker is accurate, what is the probability that the proportion of defective bottles in a sample of 602 bottles would differ from the population proportion by greater than 4%? (Round your answer to 4 decimal places)"
   ]
  },
  {
   "cell_type": "code",
   "execution_count": 50,
   "id": "982c22ef",
   "metadata": {},
   "outputs": [
    {
     "name": "stdout",
     "output_type": "stream",
     "text": [
      "The probability of more than 27% of 602 bottles being defective is 0.0098.\n"
     ]
    }
   ],
   "source": [
    "a = 602\n",
    "b = .23\n",
    "c = 1-b\n",
    "#mean = 138.46 defective bottles\n",
    "mean = a * b\n",
    "#worstcase = 162.54 defective bottles\n",
    "worstcase = a * (b + .04)\n",
    "stdev = math.sqrt(a * b * c)\n",
    "result = 1 - norm.cdf(worstcase, loc=mean, scale=stdev)\n",
    "print('The probability of more than 27% of 602 bottles being defective is {:.4f}.'.format(result))"
   ]
  },
  {
   "cell_type": "markdown",
   "id": "ebb6240e",
   "metadata": {},
   "source": [
    "13.A research company desires to know the mean consumption of beef per week among males over age 48.  Suppose a sample of size 208 is drawn with xbar = 3.9.  Assume r = 0.8.  Construct the 80% confidence interval for the mean number of lb. of beef per week among males over 48. (Round your answers to 1 decimal place) \n",
    "\n",
    "\n",
    "Upper Bound:  \n",
    "Lower Bound:"
   ]
  },
  {
   "cell_type": "code",
   "execution_count": 51,
   "id": "447de504",
   "metadata": {},
   "outputs": [
    {
     "name": "stdout",
     "output_type": "stream",
     "text": [
      "With 80% confidence the mean consumption of beef is between 2.9 and 4.9.\n"
     ]
    }
   ],
   "source": [
    "n = 208\n",
    "mean = 3.9\n",
    "stdev = 0.8\n",
    "lowerbound = norm.ppf(.1, loc=mean, scale=stdev)\n",
    "upperbound = norm.ppf(.9, loc=mean, scale=stdev)\n",
    "print('With 80% confidence the mean consumption of beef is between {:.1f} and {:.1f}.'.format(lowerbound, upperbound))"
   ]
  },
  {
   "cell_type": "markdown",
   "id": "b3093e0c",
   "metadata": {},
   "source": [
    "14.An economist wants to estimate the mean per capita income (in thousands of dollars) in a major city in California.  Suppose a sample of size 7472 is drawn with xbar = 16.6.  Assume r = 11.  Construct the 98% confidence interval for the mean per capita income. (Round your answers to 1 decimal place) \n",
    "\n",
    "Upper Bound:  \n",
    "Lower Bound:"
   ]
  },
  {
   "cell_type": "code",
   "execution_count": 52,
   "id": "54244456",
   "metadata": {},
   "outputs": [
    {
     "name": "stdout",
     "output_type": "stream",
     "text": [
      "With 98% confidence the mean per capita income is between -9.0 and 42.2.\n"
     ]
    }
   ],
   "source": [
    "n = 7472\n",
    "mean = 16.6\n",
    "stdev = 11\n",
    "lowerbound = norm.ppf(.01, loc=mean, scale=stdev)\n",
    "upperbound = norm.ppf(.99, loc=mean, scale=stdev)\n",
    "print('With 98% confidence the mean per capita income is between {:.1f} and {:.1f}.'.format(lowerbound, upperbound))"
   ]
  },
  {
   "cell_type": "markdown",
   "id": "6d11f3a8",
   "metadata": {},
   "source": [
    "15.Find the value of t such that 0.05 of the area under the curve is to the left of t.  Assume the degrees of freedom equals 26.\n",
    "\n",
    "Step 1. Choose the picture which best describes the problem.\n",
    "\n",
    "Step 2. Write your answer below. "
   ]
  },
  {
   "cell_type": "markdown",
   "id": "d0a15c0e",
   "metadata": {},
   "source": [
    "The upper right picture with t between minus 2 and 1 stds from the mean\n",
    "and it's shaded green in the left tail "
   ]
  },
  {
   "cell_type": "code",
   "execution_count": 53,
   "id": "5026c9bb",
   "metadata": {},
   "outputs": [
    {
     "name": "stdout",
     "output_type": "stream",
     "text": [
      "-1.645\n",
      "-1.703\n"
     ]
    }
   ],
   "source": [
    "z = round(norm.ppf(.05),3)\n",
    "print(z)\n",
    "tscore = round(t.ppf(.05, 27),3)\n",
    "print(tscore)"
   ]
  },
  {
   "cell_type": "markdown",
   "id": "b631fb43",
   "metadata": {},
   "source": [
    "16.The following measurements ( in picocuries per liter ) were recorded by a set of helium gas detectors installed in a laboratory facility:  \n",
    "                      383.6, 347.1, 371.9, 347.6, 325.8, 337\n",
    "\tUsing these measurements, construct a 90% confidence interval for the mean level of helium gas present in the facility.  Assume the population is normally distributed.  \n",
    "\n",
    "* Step 1. Calculate the sample mean for the given sample data. (Round answer to 2 decimal places) "
   ]
  },
  {
   "cell_type": "code",
   "execution_count": 54,
   "id": "62dbf478",
   "metadata": {},
   "outputs": [
    {
     "data": {
      "text/plain": [
       "352.17"
      ]
     },
     "execution_count": 54,
     "metadata": {},
     "output_type": "execute_result"
    }
   ],
   "source": [
    "x = (383.6, 347.1, 371.9, 347.6, 325.8, 337)\n",
    "n = len(x)\n",
    "mean = round(np.mean(x),2)\n",
    "mean"
   ]
  },
  {
   "cell_type": "markdown",
   "id": "8e74c123",
   "metadata": {},
   "source": [
    "* Step 2. Calculate the sample standard deviation for the given sample data. (Round answer to 2 decimal places) "
   ]
  },
  {
   "cell_type": "code",
   "execution_count": 55,
   "id": "e1922e14",
   "metadata": {},
   "outputs": [
    {
     "data": {
      "text/plain": [
       "19.79"
      ]
     },
     "execution_count": 55,
     "metadata": {},
     "output_type": "execute_result"
    }
   ],
   "source": [
    "stdev = round(np.std(x),2)\n",
    "stdev"
   ]
  },
  {
   "cell_type": "markdown",
   "id": "9bb6bd88",
   "metadata": {},
   "source": [
    "* Step 3. Find the critical value that should be used in constructing the confidence interval. (Round answer to 3 decimal places) "
   ]
  },
  {
   "cell_type": "code",
   "execution_count": 56,
   "id": "08062336",
   "metadata": {},
   "outputs": [
    {
     "data": {
      "text/plain": [
       "1.943"
      ]
     },
     "execution_count": 56,
     "metadata": {},
     "output_type": "execute_result"
    }
   ],
   "source": [
    "tscore = round(t.ppf(1-.05, n),3)\n",
    "tscore"
   ]
  },
  {
   "cell_type": "markdown",
   "id": "0de06d44",
   "metadata": {},
   "source": [
    "* Step 4. Construct the 90% confidence interval. (Round answer to 2 decimal places)  \n",
    "Upper Bound:  \n",
    "Lower Bound:"
   ]
  },
  {
   "cell_type": "code",
   "execution_count": 57,
   "id": "f572ea46",
   "metadata": {},
   "outputs": [
    {
     "name": "stdout",
     "output_type": "stream",
     "text": [
      "With 90% confidence the mean is between 313.7 and 390.6.\n"
     ]
    }
   ],
   "source": [
    "upperbound = mean + tscore*stdev\n",
    "lowerbound = mean - tscore*stdev\n",
    "print('With 90% confidence the mean is between {:.1f} and {:.1f}.'.format(lowerbound, upperbound))"
   ]
  },
  {
   "cell_type": "markdown",
   "id": "fe575dca",
   "metadata": {},
   "source": [
    "\n",
    "17.A random sample of 16 fields of spring wheat has a mean yield of 46.4 bushels per acre and standard deviation of 2.45 bushels per acre.  Determine the 80% confidence interval for the true mean yield.  Assume the population is normally distributed."
   ]
  },
  {
   "cell_type": "markdown",
   "id": "efcf781a",
   "metadata": {},
   "source": [
    "* Step 1. Find the critical value that should be used in constructing the confidence interval. (Round answer to 3 decimal places)"
   ]
  },
  {
   "cell_type": "code",
   "execution_count": 58,
   "id": "11cf9b9e",
   "metadata": {},
   "outputs": [
    {
     "name": "stdout",
     "output_type": "stream",
     "text": [
      "1.337\n"
     ]
    }
   ],
   "source": [
    "from scipy.stats import t\n",
    "n = 16\n",
    "mean = 46.4\n",
    "stdev = 2.45\n",
    "tscore = round(t.ppf(1-.1, n),3)\n",
    "print(tscore)"
   ]
  },
  {
   "cell_type": "markdown",
   "id": "890fc98b",
   "metadata": {},
   "source": [
    "* Step 2. Construct the 80% confidence interval. (Round answer to 1 decimal place)  \n",
    "Upper Bound:  \n",
    "Lower Bound:"
   ]
  },
  {
   "cell_type": "code",
   "execution_count": 59,
   "id": "ceca4caf",
   "metadata": {},
   "outputs": [
    {
     "name": "stdout",
     "output_type": "stream",
     "text": [
      "With 80% confidence the mean is between 43.1 and 49.7.\n"
     ]
    }
   ],
   "source": [
    "upperbound = mean + tscore*stdev\n",
    "lowerbound = mean - tscore*stdev\n",
    "print('With 80% confidence the mean is between {:.1f} and {:.1f}.'.format(lowerbound, upperbound))"
   ]
  },
  {
   "cell_type": "markdown",
   "id": "ebd3e63b",
   "metadata": {},
   "source": [
    "18.A toy manufacturer wants to know how many new toys children buy each year.  She thinks the mean is 8 toys per year.  Assume a previous study found the standard deviation to be 1.9.  How large of a sample would be required in order to estimate the mean number of toys bought per child at the 99% confidence level with an error of at most 0.13 toys? (Round your answer up to the next integer)"
   ]
  },
  {
   "cell_type": "code",
   "execution_count": 60,
   "id": "7d99a83b",
   "metadata": {},
   "outputs": [
    {
     "name": "stdout",
     "output_type": "stream",
     "text": [
      "579\n"
     ]
    }
   ],
   "source": [
    "stdev = 1.9\n",
    "toy = round(norm.ppf(1-.005),3)\n",
    "moe = .13\n",
    "toy = math.ceil((z*stdev/moe) ** 2)\n",
    "print(toy)"
   ]
  },
  {
   "cell_type": "markdown",
   "id": "05fe2bb5",
   "metadata": {},
   "source": [
    "results may vary until results is under 0.13 (toy = 100, 90, 80, 70, 75, 74, 73, 74)"
   ]
  },
  {
   "cell_type": "code",
   "execution_count": 61,
   "id": "9f46482b",
   "metadata": {},
   "outputs": [
    {
     "data": {
      "text/plain": [
       "0.1292"
      ]
     },
     "execution_count": 61,
     "metadata": {},
     "output_type": "execute_result"
    }
   ],
   "source": [
    "toy = 74\n",
    "mean = 8\n",
    "stdev = 1.9\n",
    "tscore = round(t.ppf(1-.005, toy),3)\n",
    "z = round(norm.ppf(1-.005),3)\n",
    "round(stdev*(tscore - z),4)"
   ]
  },
  {
   "cell_type": "markdown",
   "id": "99dc82c5",
   "metadata": {},
   "source": [
    "19.A research scientist wants to know how many times per hour a certain strand of bacteria reproduces.  He believes that the mean is 12.6.  Assume the variance is known to be 3.61.  How large of a sample would be required in order to estimate the mean number of reproductions per hour at the 95% confidence level with an error of at most 0.19 reproductions? (Round your answer up to the next integer)"
   ]
  },
  {
   "cell_type": "code",
   "execution_count": 62,
   "id": "6d34a366",
   "metadata": {},
   "outputs": [
    {
     "name": "stdout",
     "output_type": "stream",
     "text": [
      "385\n"
     ]
    }
   ],
   "source": [
    "stdev = math.sqrt(3.61)\n",
    "z = round(norm.ppf(1-.025),3)\n",
    "moe = 0.19\n",
    "bacteria = math.ceil((z*stdev/moe) ** 2)\n",
    "print(bacteria)"
   ]
  },
  {
   "cell_type": "markdown",
   "id": "5bbdb5c6",
   "metadata": {},
   "source": [
    "20.The state education commission wants to estimate the fraction of tenth grade students that have reading skills at or below the eighth grade level."
   ]
  },
  {
   "cell_type": "markdown",
   "id": "39c98135",
   "metadata": {},
   "source": [
    "* Step 1. Suppose a sample of 2089 tenth graders is drawn. Of the students sampled, 1734 read above the eighth grade level.  Using the data, estimate the proportion of tenth graders reading at or below the eighth grade level. (Write your answer as a fraction or a decimal number rounded to 3 decimal places) "
   ]
  },
  {
   "cell_type": "code",
   "execution_count": 63,
   "id": "5a00d4e4",
   "metadata": {},
   "outputs": [
    {
     "name": "stdout",
     "output_type": "stream",
     "text": [
      "0.329\n"
     ]
    }
   ],
   "source": [
    "a = 156\n",
    "b = 474\n",
    "students = round(a/b,3)\n",
    "print(students)"
   ]
  },
  {
   "cell_type": "markdown",
   "id": "95e89d9b",
   "metadata": {},
   "source": [
    "* Step 2. Suppose a sample of 474 tankers is drawn.  Of these ships, 156 had spills.  Using the data, construct the 95% confidence interval for the population proportion of oil tankers that have spills each month. (Round your answers to 3 decimal places)  \n",
    "Upper Bound:  \n",
    "Lower Bound:"
   ]
  },
  {
   "cell_type": "code",
   "execution_count": 64,
   "id": "474d561d",
   "metadata": {},
   "outputs": [
    {
     "name": "stdout",
     "output_type": "stream",
     "text": [
      "With 98% confidence the proportion is between 0.811 and 0.849.\n"
     ]
    }
   ],
   "source": [
    "a = 1734\n",
    "b = 2089\n",
    "c = a/b\n",
    "sem = math.sqrt(a * (b - a)/(b ** 3))\n",
    "tankers = norm.ppf(1-.01)\n",
    "upperbound = c + tankers * sem\n",
    "lowerbound = c - tankers * sem\n",
    "print('With 98% confidence the proportion is between {:.3f} and {:.3f}.'.format(lowerbound, upperbound))"
   ]
  },
  {
   "cell_type": "markdown",
   "id": "bed8e961",
   "metadata": {},
   "source": [
    "21.An environmentalist wants to find out the fraction of oil tankers that have spills each month."
   ]
  },
  {
   "cell_type": "markdown",
   "id": "f420f76d",
   "metadata": {},
   "source": [
    "* Step 1. Suppose a sample of 474 tankers is drawn.  Of these ships, 156 had spills.  Using the data, estimate the proportion of oil tankers that had spills. (Write your answer as a fraction or a decimal number rounded to 3 decimal places)"
   ]
  },
  {
   "cell_type": "code",
   "execution_count": 65,
   "id": "96c15cb8",
   "metadata": {},
   "outputs": [
    {
     "name": "stdout",
     "output_type": "stream",
     "text": [
      "0.329\n"
     ]
    }
   ],
   "source": [
    "a = 156\n",
    "b = 474\n",
    "tankers = round(a/b,3)\n",
    "print(tankers)"
   ]
  },
  {
   "cell_type": "markdown",
   "id": "aae417e4",
   "metadata": {},
   "source": [
    "Step 2. Suppose a sample of 474 tankers is drawn.  Of these ships, 156 had spills.  Using the data, construct the 95% confidence interval for the population proportion of oil tankers that have spills each month. (Round your answers to 3 decimal places)  \n",
    "Upper Bound:  \n",
    "Lower Bound:"
   ]
  },
  {
   "cell_type": "code",
   "execution_count": 66,
   "id": "3563604f",
   "metadata": {},
   "outputs": [
    {
     "name": "stdout",
     "output_type": "stream",
     "text": [
      "With 95% confidence the proportion is between 0.287 and 0.371.\n"
     ]
    }
   ],
   "source": [
    "a = 156\n",
    "b = 474\n",
    "c = a/b\n",
    "sem = math.sqrt(a * (b - a)/(b ** 3))\n",
    "tankers = norm.ppf(1-.025)\n",
    "upperbound = c + tankers * sem\n",
    "lowerbound = c - tankers * sem\n",
    "print('With 95% confidence the proportion is between {:.3f} and {:.3f}.'.format(lowerbound, upperbound))"
   ]
  }
 ],
 "metadata": {
  "kernelspec": {
   "display_name": "Python 3 (ipykernel)",
   "language": "python",
   "name": "python3"
  },
  "language_info": {
   "codemirror_mode": {
    "name": "ipython",
    "version": 3
   },
   "file_extension": ".py",
   "mimetype": "text/x-python",
   "name": "python",
   "nbconvert_exporter": "python",
   "pygments_lexer": "ipython3",
   "version": "3.9.13"
  }
 },
 "nbformat": 4,
 "nbformat_minor": 5
}
